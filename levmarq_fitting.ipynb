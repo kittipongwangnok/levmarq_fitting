{
 "cells": [
  {
   "cell_type": "code",
   "execution_count": 1,
   "metadata": {},
   "outputs": [],
   "source": [
    "#Import module\n",
    "import sys\n",
    "import os\n",
    "import numpy as np\n",
    "import matplotlib.pyplot as plt\n",
    "import pandas as pd\n",
    "#Latex font\n",
    "import matplotlib as mpl\n",
    "from matplotlib import rc\n",
    "plt.rc('text', usetex=True)\n",
    "plt.rc('font', family='serif',size=16)"
   ]
  },
  {
   "cell_type": "code",
   "execution_count": 2,
   "metadata": {},
   "outputs": [
    {
     "name": "stdout",
     "output_type": "stream",
     "text": [
      "\u001b[1m\u001b[34mComposite_model_wd_spot_20200102_run008g_plot\u001b[m\u001b[m/\r\n",
      "Rwd_fit_levmarq.xlsx\r\n",
      "Trd_fit_levmarq.xlsx\r\n",
      "WD_Teff_fit_levmarq.xlsx\r\n",
      "i_fit_levmarq.xlsx\r\n",
      "levmarq_fitting.ipynb\r\n",
      "levmarq_fitting_Rwd.jpg\r\n",
      "levmarq_fitting_Trd.jpg\r\n",
      "levmarq_fitting_Twd.jpg\r\n",
      "levmarq_fitting_i.jpg\r\n",
      "levmarq_fitting_q.jpg\r\n",
      "q_fit_levmarq.xlsx\r\n",
      "~$Trd_fit_levmarq.xlsx\r\n"
     ]
    }
   ],
   "source": [
    "ls"
   ]
  },
  {
   "cell_type": "code",
   "execution_count": 3,
   "metadata": {},
   "outputs": [
    {
     "data": {
      "text/html": [
       "<div>\n",
       "<style scoped>\n",
       "    .dataframe tbody tr th:only-of-type {\n",
       "        vertical-align: middle;\n",
       "    }\n",
       "\n",
       "    .dataframe tbody tr th {\n",
       "        vertical-align: top;\n",
       "    }\n",
       "\n",
       "    .dataframe thead th {\n",
       "        text-align: right;\n",
       "    }\n",
       "</style>\n",
       "<table border=\"1\" class=\"dataframe\">\n",
       "  <thead>\n",
       "    <tr style=\"text-align: right;\">\n",
       "      <th></th>\n",
       "      <th>q_nlat1f</th>\n",
       "      <th>q</th>\n",
       "      <th>dq</th>\n",
       "      <th>q_reduced_chisq</th>\n",
       "    </tr>\n",
       "  </thead>\n",
       "  <tbody>\n",
       "    <tr>\n",
       "      <th>0</th>\n",
       "      <td>100</td>\n",
       "      <td>0.150333</td>\n",
       "      <td>0.000960</td>\n",
       "      <td>2.036790</td>\n",
       "    </tr>\n",
       "    <tr>\n",
       "      <th>1</th>\n",
       "      <td>150</td>\n",
       "      <td>0.150356</td>\n",
       "      <td>0.000958</td>\n",
       "      <td>2.037141</td>\n",
       "    </tr>\n",
       "    <tr>\n",
       "      <th>2</th>\n",
       "      <td>200</td>\n",
       "      <td>0.150365</td>\n",
       "      <td>0.000957</td>\n",
       "      <td>2.037360</td>\n",
       "    </tr>\n",
       "    <tr>\n",
       "      <th>3</th>\n",
       "      <td>250</td>\n",
       "      <td>0.150347</td>\n",
       "      <td>0.000959</td>\n",
       "      <td>2.036909</td>\n",
       "    </tr>\n",
       "    <tr>\n",
       "      <th>4</th>\n",
       "      <td>300</td>\n",
       "      <td>0.150355</td>\n",
       "      <td>0.000957</td>\n",
       "      <td>2.036724</td>\n",
       "    </tr>\n",
       "  </tbody>\n",
       "</table>\n",
       "</div>"
      ],
      "text/plain": [
       "   q_nlat1f         q        dq  q_reduced_chisq\n",
       "0       100  0.150333  0.000960         2.036790\n",
       "1       150  0.150356  0.000958         2.037141\n",
       "2       200  0.150365  0.000957         2.037360\n",
       "3       250  0.150347  0.000959         2.036909\n",
       "4       300  0.150355  0.000957         2.036724"
      ]
     },
     "execution_count": 3,
     "metadata": {},
     "output_type": "execute_result"
    }
   ],
   "source": [
    "data_q = pd.read_excel(\"q_fit_levmarq.xlsx\", \n",
    "            names=[\"q_nlat1f\", \"q\", \"dq\", \"q_reduced_chisq\"]) \n",
    "# Preview the first 5 lines of the loaded data \n",
    "data_q.head()"
   ]
  },
  {
   "cell_type": "code",
   "execution_count": 4,
   "metadata": {},
   "outputs": [
    {
     "data": {
      "image/png": "[encoded data removed]",
      "text/plain": [
       "<Figure size 720x504 with 2 Axes>"
      ]
     },
     "metadata": {
      "needs_background": "light"
     },
     "output_type": "display_data"
    }
   ],
   "source": [
    "q_nlat1f = data_q[\"q_nlat1f\"]\n",
    "q = data_q[\"q\"]\n",
    "dq = data_q[\"dq\"]\n",
    "q_reduced_chisq = data_q[\"q_reduced_chisq\"]\n",
    "\n",
    "fig, (ax0, ax1) = plt.subplots(2, 1, gridspec_kw={'height_ratios': [5, 1]}, sharex=True, sharey=False, figsize=(10, 7), tight_layout=True)\n",
    "ax0.tick_params(direction='in', which='both', bottom='on',top='on', right = 'on')\n",
    "ax1.tick_params(direction='in', which='both', bottom='on',top='on', right = 'on')\n",
    "ax1.set_xlabel('nlat1f')\n",
    "\n",
    "ax0.errorbar(q_nlat1f, q, yerr=dq, fmt='o', color='red',alpha = 1,\n",
    "                    ecolor='lightgray', elinewidth=2, capsize=0, markersize='6.00', label = 'q' )\n",
    "\n",
    "ax0.set_ylabel('q')\n",
    "ax0.set_ylim(0.14, 0.16)\n",
    "ax0.grid(linestyle='dotted')\n",
    "\n",
    "\n",
    "ax1.plot(q_nlat1f, q_reduced_chisq, 'o', color='red', label = \"q\")\n",
    "ax1.set_ylabel('$\\chi_{r}^{2}$')\n",
    "ax1.set_ylim(1.5, 2.5)\n",
    "ax1.grid(linestyle='dotted')\n",
    "\n",
    "plt.savefig(\"levmarq_fitting_q.jpg\", format='jpg', dpi=1200)\n",
    "plt.show()"
   ]
  },
  {
   "cell_type": "code",
   "execution_count": 5,
   "metadata": {},
   "outputs": [
    {
     "data": {
      "text/html": [
       "<div>\n",
       "<style scoped>\n",
       "    .dataframe tbody tr th:only-of-type {\n",
       "        vertical-align: middle;\n",
       "    }\n",
       "\n",
       "    .dataframe tbody tr th {\n",
       "        vertical-align: top;\n",
       "    }\n",
       "\n",
       "    .dataframe thead th {\n",
       "        text-align: right;\n",
       "    }\n",
       "</style>\n",
       "<table border=\"1\" class=\"dataframe\">\n",
       "  <thead>\n",
       "    <tr style=\"text-align: right;\">\n",
       "      <th></th>\n",
       "      <th>i_nlat1f</th>\n",
       "      <th>i</th>\n",
       "      <th>di</th>\n",
       "      <th>i_reduced_chisq</th>\n",
       "    </tr>\n",
       "  </thead>\n",
       "  <tbody>\n",
       "    <tr>\n",
       "      <th>0</th>\n",
       "      <td>100</td>\n",
       "      <td>79.569883</td>\n",
       "      <td>0.020179</td>\n",
       "      <td>2.038215</td>\n",
       "    </tr>\n",
       "    <tr>\n",
       "      <th>1</th>\n",
       "      <td>150</td>\n",
       "      <td>79.575740</td>\n",
       "      <td>0.015665</td>\n",
       "      <td>2.038187</td>\n",
       "    </tr>\n",
       "    <tr>\n",
       "      <th>2</th>\n",
       "      <td>200</td>\n",
       "      <td>79.575051</td>\n",
       "      <td>0.029052</td>\n",
       "      <td>2.037620</td>\n",
       "    </tr>\n",
       "    <tr>\n",
       "      <th>3</th>\n",
       "      <td>250</td>\n",
       "      <td>79.573145</td>\n",
       "      <td>0.024604</td>\n",
       "      <td>2.038272</td>\n",
       "    </tr>\n",
       "    <tr>\n",
       "      <th>4</th>\n",
       "      <td>300</td>\n",
       "      <td>79.576303</td>\n",
       "      <td>0.028734</td>\n",
       "      <td>2.038094</td>\n",
       "    </tr>\n",
       "  </tbody>\n",
       "</table>\n",
       "</div>"
      ],
      "text/plain": [
       "   i_nlat1f          i        di  i_reduced_chisq\n",
       "0       100  79.569883  0.020179         2.038215\n",
       "1       150  79.575740  0.015665         2.038187\n",
       "2       200  79.575051  0.029052         2.037620\n",
       "3       250  79.573145  0.024604         2.038272\n",
       "4       300  79.576303  0.028734         2.038094"
      ]
     },
     "execution_count": 5,
     "metadata": {},
     "output_type": "execute_result"
    }
   ],
   "source": [
    "data_i = pd.read_excel(\"i_fit_levmarq.xlsx\", \n",
    "            names=[\"i_nlat1f\", \"i\", \"di\", \"i_reduced_chisq\"]) \n",
    "# Preview the first 5 lines of the loaded data \n",
    "data_i.head()"
   ]
  },
  {
   "cell_type": "code",
   "execution_count": 6,
   "metadata": {},
   "outputs": [
    {
     "data": {
      "image/png": "[encoded data removed]",
      "text/plain": [
       "<Figure size 720x504 with 2 Axes>"
      ]
     },
     "metadata": {
      "needs_background": "light"
     },
     "output_type": "display_data"
    }
   ],
   "source": [
    "i_nlat1f = data_i[\"i_nlat1f\"]\n",
    "i = data_i[\"i\"]\n",
    "di = data_i[\"di\"]\n",
    "i_reduced_chisq = data_i[\"i_reduced_chisq\"]\n",
    "\n",
    "fig, (ax0, ax1) = plt.subplots(2, 1, gridspec_kw={'height_ratios': [5, 1]}, sharex=True, sharey=False, figsize=(10, 7), tight_layout=True)\n",
    "ax0.tick_params(direction='in', which='both', bottom='on',top='on', right = 'on')\n",
    "ax1.tick_params(direction='in', which='both', bottom='on',top='on', right = 'on')\n",
    "ax1.set_xlabel('nlat1f')\n",
    "\n",
    "ax0.errorbar(i_nlat1f, i, yerr=di, fmt='o', color='green',alpha = 1,\n",
    "                    ecolor='lightgray', elinewidth=2, capsize=0, markersize='6.00', label = 'i' )\n",
    "\n",
    "ax0.set_ylabel('i')\n",
    "ax0.set_ylim(79, 80)\n",
    "ax0.grid(linestyle='dotted')\n",
    "\n",
    "\n",
    "ax1.plot(i_nlat1f, i_reduced_chisq, 'o', color='green', label = \"i\")\n",
    "ax1.set_ylabel('$\\chi_{r}^{2}$')\n",
    "ax1.set_ylim(1.5, 2.5)\n",
    "ax1.grid(linestyle='dotted')\n",
    "\n",
    "plt.savefig(\"levmarq_fitting_i.jpg\", format='jpg', dpi=1200)\n",
    "plt.show()"
   ]
  },
  {
   "cell_type": "code",
   "execution_count": 7,
   "metadata": {},
   "outputs": [
    {
     "data": {
      "text/html": [
       "<div>\n",
       "<style scoped>\n",
       "    .dataframe tbody tr th:only-of-type {\n",
       "        vertical-align: middle;\n",
       "    }\n",
       "\n",
       "    .dataframe tbody tr th {\n",
       "        vertical-align: top;\n",
       "    }\n",
       "\n",
       "    .dataframe thead th {\n",
       "        text-align: right;\n",
       "    }\n",
       "</style>\n",
       "<table border=\"1\" class=\"dataframe\">\n",
       "  <thead>\n",
       "    <tr style=\"text-align: right;\">\n",
       "      <th></th>\n",
       "      <th>Rwd_nlat1f</th>\n",
       "      <th>Rwd</th>\n",
       "      <th>dRwd</th>\n",
       "      <th>Rwd_reduced_chisq</th>\n",
       "    </tr>\n",
       "  </thead>\n",
       "  <tbody>\n",
       "    <tr>\n",
       "      <th>0</th>\n",
       "      <td>100</td>\n",
       "      <td>0.019454</td>\n",
       "      <td>0.001318</td>\n",
       "      <td>2.019615</td>\n",
       "    </tr>\n",
       "    <tr>\n",
       "      <th>1</th>\n",
       "      <td>150</td>\n",
       "      <td>0.019212</td>\n",
       "      <td>0.001232</td>\n",
       "      <td>2.020413</td>\n",
       "    </tr>\n",
       "    <tr>\n",
       "      <th>2</th>\n",
       "      <td>200</td>\n",
       "      <td>0.019585</td>\n",
       "      <td>0.001264</td>\n",
       "      <td>2.019444</td>\n",
       "    </tr>\n",
       "    <tr>\n",
       "      <th>3</th>\n",
       "      <td>250</td>\n",
       "      <td>0.019443</td>\n",
       "      <td>0.001271</td>\n",
       "      <td>2.019421</td>\n",
       "    </tr>\n",
       "    <tr>\n",
       "      <th>4</th>\n",
       "      <td>300</td>\n",
       "      <td>0.019572</td>\n",
       "      <td>0.001258</td>\n",
       "      <td>2.019531</td>\n",
       "    </tr>\n",
       "  </tbody>\n",
       "</table>\n",
       "</div>"
      ],
      "text/plain": [
       "   Rwd_nlat1f       Rwd      dRwd  Rwd_reduced_chisq\n",
       "0         100  0.019454  0.001318           2.019615\n",
       "1         150  0.019212  0.001232           2.020413\n",
       "2         200  0.019585  0.001264           2.019444\n",
       "3         250  0.019443  0.001271           2.019421\n",
       "4         300  0.019572  0.001258           2.019531"
      ]
     },
     "execution_count": 7,
     "metadata": {},
     "output_type": "execute_result"
    }
   ],
   "source": [
    "data_Rwd = pd.read_excel(\"Rwd_fit_levmarq.xlsx\", \n",
    "            names=[\"Rwd_nlat1f\", \"Rwd\", \"dRwd\", \"Rwd_reduced_chisq\"]) \n",
    "# Preview the first 5 lines of the loaded data \n",
    "data_Rwd.head()"
   ]
  },
  {
   "cell_type": "code",
   "execution_count": 8,
   "metadata": {},
   "outputs": [
    {
     "data": {
      "image/png": "[encoded data removed]",
      "text/plain": [
       "<Figure size 720x504 with 2 Axes>"
      ]
     },
     "metadata": {
      "needs_background": "light"
     },
     "output_type": "display_data"
    }
   ],
   "source": [
    "Rwd_nlat1f = data_Rwd[\"Rwd_nlat1f\"]\n",
    "Rwd = data_Rwd[\"Rwd\"]\n",
    "dRwd = data_Rwd[\"dRwd\"]\n",
    "Rwd_reduced_chisq = data_Rwd[\"Rwd_reduced_chisq\"]\n",
    "\n",
    "fig, (ax0, ax1) = plt.subplots(2, 1, gridspec_kw={'height_ratios': [5, 1]}, sharex=True, sharey=False, figsize=(10, 7), tight_layout=True)\n",
    "ax0.tick_params(direction='in', which='both', bottom='on',top='on', right = 'on')\n",
    "ax1.tick_params(direction='in', which='both', bottom='on',top='on', right = 'on')\n",
    "ax1.set_xlabel('nlat1f')\n",
    "\n",
    "ax0.errorbar(Rwd_nlat1f, Rwd, yerr=dRwd, fmt='o', color='blue',alpha = 1,\n",
    "                    ecolor='lightgray', elinewidth=2, capsize=0, markersize='6.00', label = 'Rwd' )\n",
    "\n",
    "ax0.set_ylabel('R\\_wd')\n",
    "ax0.set_ylim(0.015, 0.023)\n",
    "ax0.grid(linestyle='dotted')\n",
    "\n",
    "\n",
    "ax1.plot(Rwd_nlat1f, Rwd_reduced_chisq, 'o', color='blue', label = \"Rwd\")\n",
    "ax1.set_ylabel('$\\chi_{r}^{2}$')\n",
    "ax1.set_ylim(1.5, 2.5)\n",
    "ax1.grid(linestyle='dotted')\n",
    "\n",
    "plt.savefig(\"levmarq_fitting_Rwd.jpg\", format='jpg', dpi=1200)\n",
    "plt.show()"
   ]
  },
  {
   "cell_type": "code",
   "execution_count": 9,
   "metadata": {},
   "outputs": [
    {
     "data": {
      "text/html": [
       "<div>\n",
       "<style scoped>\n",
       "    .dataframe tbody tr th:only-of-type {\n",
       "        vertical-align: middle;\n",
       "    }\n",
       "\n",
       "    .dataframe tbody tr th {\n",
       "        vertical-align: top;\n",
       "    }\n",
       "\n",
       "    .dataframe thead th {\n",
       "        text-align: right;\n",
       "    }\n",
       "</style>\n",
       "<table border=\"1\" class=\"dataframe\">\n",
       "  <thead>\n",
       "    <tr style=\"text-align: right;\">\n",
       "      <th></th>\n",
       "      <th>Twd_nlat1f</th>\n",
       "      <th>Twd</th>\n",
       "      <th>dTwd</th>\n",
       "      <th>Twd_reduced_chisq</th>\n",
       "    </tr>\n",
       "  </thead>\n",
       "  <tbody>\n",
       "    <tr>\n",
       "      <th>0</th>\n",
       "      <td>100</td>\n",
       "      <td>12243.975866</td>\n",
       "      <td>1107.6632</td>\n",
       "      <td>2.015619</td>\n",
       "    </tr>\n",
       "    <tr>\n",
       "      <th>1</th>\n",
       "      <td>150</td>\n",
       "      <td>12230.938102</td>\n",
       "      <td>1106.2339</td>\n",
       "      <td>2.017512</td>\n",
       "    </tr>\n",
       "    <tr>\n",
       "      <th>2</th>\n",
       "      <td>200</td>\n",
       "      <td>12241.694864</td>\n",
       "      <td>1107.3582</td>\n",
       "      <td>2.017209</td>\n",
       "    </tr>\n",
       "    <tr>\n",
       "      <th>3</th>\n",
       "      <td>250</td>\n",
       "      <td>12242.775810</td>\n",
       "      <td>1107.4500</td>\n",
       "      <td>2.016953</td>\n",
       "    </tr>\n",
       "    <tr>\n",
       "      <th>4</th>\n",
       "      <td>300</td>\n",
       "      <td>12240.714067</td>\n",
       "      <td>1107.3353</td>\n",
       "      <td>2.017283</td>\n",
       "    </tr>\n",
       "  </tbody>\n",
       "</table>\n",
       "</div>"
      ],
      "text/plain": [
       "   Twd_nlat1f           Twd       dTwd  Twd_reduced_chisq\n",
       "0         100  12243.975866  1107.6632           2.015619\n",
       "1         150  12230.938102  1106.2339           2.017512\n",
       "2         200  12241.694864  1107.3582           2.017209\n",
       "3         250  12242.775810  1107.4500           2.016953\n",
       "4         300  12240.714067  1107.3353           2.017283"
      ]
     },
     "execution_count": 9,
     "metadata": {},
     "output_type": "execute_result"
    }
   ],
   "source": [
    "data_Twd = pd.read_excel(\"WD_Teff_fit_levmarq.xlsx\", \n",
    "            names=[\"Twd_nlat1f\", \"Twd\", \"dTwd\", \"Twd_reduced_chisq\"]) \n",
    "# Preview the first 5 lines of the loaded data \n",
    "data_Twd.head()"
   ]
  },
  {
   "cell_type": "code",
   "execution_count": 10,
   "metadata": {},
   "outputs": [
    {
     "data": {
      "image/png": "[encoded data removed]",
      "text/plain": [
       "<Figure size 720x504 with 2 Axes>"
      ]
     },
     "metadata": {
      "needs_background": "light"
     },
     "output_type": "display_data"
    }
   ],
   "source": [
    "Twd_nlat1f = data_Twd[\"Twd_nlat1f\"]\n",
    "Twd = data_Twd[\"Twd\"]\n",
    "dTwd = data_Twd[\"dTwd\"]\n",
    "Twd_reduced_chisq = data_Twd[\"Twd_reduced_chisq\"]\n",
    "\n",
    "fig, (ax0, ax1) = plt.subplots(2, 1, gridspec_kw={'height_ratios': [5, 1]}, sharex=True, sharey=False, figsize=(10, 7), tight_layout=True)\n",
    "ax0.tick_params(direction='in', which='both', bottom='on',top='on', right = 'on')\n",
    "ax1.tick_params(direction='in', which='both', bottom='on',top='on', right = 'on')\n",
    "ax1.set_xlabel('nlat1f')\n",
    "\n",
    "ax0.errorbar(Twd_nlat1f, Twd, yerr=dTwd, fmt='o', color='pink',alpha = 1,\n",
    "                    ecolor='lightgray', elinewidth=2, capsize=0, markersize='6.00', label = 'TWD' )\n",
    "\n",
    "ax0.set_ylabel('T\\_WD')\n",
    "ax0.set_ylim(8000, 16000)\n",
    "ax0.grid(linestyle='dotted')\n",
    "\n",
    "\n",
    "ax1.plot(Twd_nlat1f, Twd_reduced_chisq, 'o', color='pink', label = \"WD Teff\")\n",
    "ax1.set_ylabel('$\\chi_{r}^{2}$')\n",
    "ax1.set_ylim(1.5, 2.5)\n",
    "ax1.grid(linestyle='dotted')\n",
    "\n",
    "plt.savefig(\"levmarq_fitting_Twd.jpg\", format='jpg', dpi=1200)\n",
    "plt.show()"
   ]
  },
  {
   "cell_type": "code",
   "execution_count": 11,
   "metadata": {},
   "outputs": [
    {
     "data": {
      "text/html": [
       "<div>\n",
       "<style scoped>\n",
       "    .dataframe tbody tr th:only-of-type {\n",
       "        vertical-align: middle;\n",
       "    }\n",
       "\n",
       "    .dataframe tbody tr th {\n",
       "        vertical-align: top;\n",
       "    }\n",
       "\n",
       "    .dataframe thead th {\n",
       "        text-align: right;\n",
       "    }\n",
       "</style>\n",
       "<table border=\"1\" class=\"dataframe\">\n",
       "  <thead>\n",
       "    <tr style=\"text-align: right;\">\n",
       "      <th></th>\n",
       "      <th>Trd_nlat1f</th>\n",
       "      <th>Trd</th>\n",
       "      <th>dTrd</th>\n",
       "      <th>Trd_reduced_chisq</th>\n",
       "    </tr>\n",
       "  </thead>\n",
       "  <tbody>\n",
       "    <tr>\n",
       "      <th>0</th>\n",
       "      <td>100</td>\n",
       "      <td>3226.093683</td>\n",
       "      <td>57.424738</td>\n",
       "      <td>1.620653</td>\n",
       "    </tr>\n",
       "    <tr>\n",
       "      <th>1</th>\n",
       "      <td>150</td>\n",
       "      <td>3225.887513</td>\n",
       "      <td>57.505357</td>\n",
       "      <td>1.623740</td>\n",
       "    </tr>\n",
       "    <tr>\n",
       "      <th>2</th>\n",
       "      <td>200</td>\n",
       "      <td>3226.111383</td>\n",
       "      <td>57.451290</td>\n",
       "      <td>1.622289</td>\n",
       "    </tr>\n",
       "    <tr>\n",
       "      <th>3</th>\n",
       "      <td>250</td>\n",
       "      <td>3226.120871</td>\n",
       "      <td>57.443731</td>\n",
       "      <td>1.621953</td>\n",
       "    </tr>\n",
       "    <tr>\n",
       "      <th>4</th>\n",
       "      <td>300</td>\n",
       "      <td>3226.107009</td>\n",
       "      <td>57.453886</td>\n",
       "      <td>1.622411</td>\n",
       "    </tr>\n",
       "  </tbody>\n",
       "</table>\n",
       "</div>"
      ],
      "text/plain": [
       "   Trd_nlat1f          Trd       dTrd  Trd_reduced_chisq\n",
       "0         100  3226.093683  57.424738           1.620653\n",
       "1         150  3225.887513  57.505357           1.623740\n",
       "2         200  3226.111383  57.451290           1.622289\n",
       "3         250  3226.120871  57.443731           1.621953\n",
       "4         300  3226.107009  57.453886           1.622411"
      ]
     },
     "execution_count": 11,
     "metadata": {},
     "output_type": "execute_result"
    }
   ],
   "source": [
    "data_Trd = pd.read_excel(\"Trd_fit_levmarq.xlsx\", \n",
    "            names=[\"Trd_nlat1f\", \"Trd\", \"dTrd\", \"Trd_reduced_chisq\"]) \n",
    "# Preview the first 5 lines of the loaded data \n",
    "data_Trd.head()"
   ]
  },
  {
   "cell_type": "code",
   "execution_count": 12,
   "metadata": {},
   "outputs": [
    {
     "data": {
      "image/png": "[encoded data removed]",
      "text/plain": [
       "<Figure size 720x504 with 2 Axes>"
      ]
     },
     "metadata": {
      "needs_background": "light"
     },
     "output_type": "display_data"
    }
   ],
   "source": [
    "Trd_nlat1f = data_Trd[\"Trd_nlat1f\"]\n",
    "Trd = data_Trd[\"Trd\"]\n",
    "dTrd = data_Trd[\"dTrd\"]\n",
    "Trd_reduced_chisq = data_Trd[\"Trd_reduced_chisq\"]\n",
    "\n",
    "fig, (ax0, ax1) = plt.subplots(2, 1, gridspec_kw={'height_ratios': [5, 1]}, sharex=True, sharey=False, figsize=(10, 7), tight_layout=True)\n",
    "ax0.tick_params(direction='in', which='both', bottom='on',top='on', right = 'on')\n",
    "ax1.tick_params(direction='in', which='both', bottom='on',top='on', right = 'on')\n",
    "ax1.set_xlabel('nlat1f')\n",
    "\n",
    "ax0.errorbar(Trd_nlat1f, Trd, yerr=dTrd, fmt='o', color='black',alpha = 1,\n",
    "                    ecolor='lightgray', elinewidth=2, capsize=0, markersize='6.00', label = 'Trd' )\n",
    "\n",
    "ax0.set_ylabel('T\\_rd')\n",
    "ax0.set_ylim(3000, 3600)\n",
    "ax0.grid(linestyle='dotted')\n",
    "\n",
    "\n",
    "ax1.plot(Trd_nlat1f, Trd_reduced_chisq, 'o', color='black', label = \"RD Teff\")\n",
    "ax1.set_ylabel('$\\chi_{r}^{2}$')\n",
    "ax1.set_ylim(1, 2)\n",
    "ax1.grid(linestyle='dotted')\n",
    "\n",
    "plt.savefig(\"levmarq_fitting_Trd.jpg\", format='jpg', dpi=1200)\n",
    "plt.show()"
   ]
  },
  {
   "cell_type": "code",
   "execution_count": null,
   "metadata": {},
   "outputs": [],
   "source": []
  }
 ],
 "metadata": {
  "kernelspec": {
   "display_name": "Python 3",
   "language": "python",
   "name": "python3"
  },
  "language_info": {
   "codemirror_mode": {
    "name": "ipython",
    "version": 3
   },
   "file_extension": ".py",
   "mimetype": "text/x-python",
   "name": "python",
   "nbconvert_exporter": "python",
   "pygments_lexer": "ipython3",
   "version": "3.7.6"
  }
 },
 "nbformat": 4,
 "nbformat_minor": 4
}
